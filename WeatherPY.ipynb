{
 "cells": [
  {
   "cell_type": "markdown",
   "metadata": {},
   "source": [
    "WeatherPy\n",
    "Review the Weather of 500+ cities across the world of varying distance from the equator."
   ]
  },
  {
   "cell_type": "code",
   "execution_count": 104,
   "metadata": {
    "scrolled": false
   },
   "outputs": [],
   "source": [
    "# Dependencies and Setup\n",
    "import matplotlib.pyplot as plt\n",
    "import pandas as pd\n",
    "import numpy as np\n",
    "import requests\n",
    "import time"
   ]
  },
  {
   "cell_type": "code",
   "execution_count": 105,
   "metadata": {},
   "outputs": [],
   "source": [
    "# Import API key\n",
    "from config import weather_api_key\n",
    "temp_units = \"imperial\""
   ]
  },
  {
   "cell_type": "code",
   "execution_count": 106,
   "metadata": {},
   "outputs": [],
   "source": [
    "# Incorporated citipy to determine city based on latitude and longitude\n",
    "from citipy import citipy\n",
    "\n",
    "# Maximum Range of latitudes and longitudes\n",
    "lat_range = (-90, 90)\n",
    "lng_range = (-180, 180)\n",
    "\n",
    "\n",
    "        \n",
    "# define url, with key and units\n",
    "query_url = f\"http://api.openweathermap.org/data/2.5/weather?appid={weather_api_key}&units={temp_units}&q=\""
   ]
  },
  {
   "cell_type": "code",
   "execution_count": 107,
   "metadata": {},
   "outputs": [
    {
     "data": {
      "text/plain": [
       "44"
      ]
     },
     "execution_count": 107,
     "metadata": {},
     "output_type": "execute_result"
    }
   ],
   "source": [
    "#set up lists to coordinates and city names\n",
    "lat_lngs = []\n",
    "cities = []\n",
    "\n",
    "# Create a set of random lat and lng combinations\n",
    "lats = np.random.uniform(low=-90.000, high=90.000, size=50)\n",
    "lngs = np.random.uniform(low=-180.000, high=180.000, size=50)\n",
    "lat_lngs = zip(lats, lngs)\n",
    "\n",
    "# Identify nearest city for each lat, lng combination\n",
    "for lat_lng in lat_lngs:\n",
    "    city = citipy.nearest_city(lat_lng[0], lat_lng[1]).city_name\n",
    "    \n",
    "# If the city is unique, then add it to a our cities list\n",
    "    if city not in cities:\n",
    "        cities.append(city)\n",
    " \n",
    "# Print the city count to confirm sufficient count\n",
    "len(cities)"
   ]
  },
  {
   "cell_type": "code",
   "execution_count": 108,
   "metadata": {},
   "outputs": [
    {
     "name": "stdout",
     "output_type": "stream",
     "text": [
      "Processing Record 1 of Set 1 | hay river\n",
      "Processing Record 2 of Set 1 | hilo\n",
      "Processing Record 3 of Set 1 | albany\n",
      "Processing Record 4 of Set 1 | thompson\n",
      "Processing Record 5 of Set 1 | barrow\n",
      "Processing Record 6 of Set 1 | mar del plata\n",
      "City not found. Moving on...\n",
      "Processing Record 7 of Set 1 | calvinia\n",
      "Processing Record 8 of Set 1 | esperance\n",
      "Processing Record 9 of Set 1 | waddan\n",
      "Processing Record 10 of Set 1 | tiksi\n",
      "Processing Record 11 of Set 1 | kaitangata\n",
      "Processing Record 12 of Set 1 | bluff\n",
      "City not found. Moving on...\n",
      "Processing Record 13 of Set 1 | coquimbo\n",
      "Processing Record 14 of Set 1 | suclayin\n",
      "Processing Record 15 of Set 1 | provideniya\n",
      "Processing Record 16 of Set 1 | mataura\n",
      "City not found. Moving on...\n",
      "Processing Record 17 of Set 1 | lebu\n",
      "Processing Record 18 of Set 1 | tasiilaq\n",
      "Processing Record 19 of Set 1 | puerto ayora\n",
      "Processing Record 20 of Set 1 | carnarvon\n",
      "City not found. Moving on...\n",
      "Processing Record 21 of Set 1 | hovd\n",
      "City not found. Moving on...\n",
      "Processing Record 22 of Set 1 | lasa\n",
      "Processing Record 23 of Set 1 | georgetown\n",
      "Processing Record 24 of Set 1 | tual\n",
      "Processing Record 25 of Set 1 | yellowknife\n",
      "Processing Record 26 of Set 1 | nicolas bravo\n",
      "Processing Record 27 of Set 1 | jamestown\n",
      "Processing Record 28 of Set 1 | muravlenko\n",
      "City not found. Moving on...\n",
      "Processing Record 29 of Set 1 | aden\n",
      "Processing Record 30 of Set 1 | hermanus\n",
      "Processing Record 31 of Set 1 | batticaloa\n",
      "City not found. Moving on...\n",
      "Processing Record 32 of Set 1 | nyurba\n",
      "Processing Record 33 of Set 1 | rikitea\n",
      "Processing Record 34 of Set 1 | babstovo\n",
      "Processing Record 35 of Set 1 | ushuaia\n",
      "City not found. Moving on...\n",
      "Processing Record 36 of Set 1 | shiyan\n",
      "------------------------------\n",
      "Data has completed\n",
      "------------------------------\n"
     ]
    }
   ],
   "source": [
    "# set lists for the dataframe\n",
    "city_full = []\n",
    "cloudiness = []\n",
    "dates = []\n",
    "humidity = []\n",
    "lats = []\n",
    "lngs = []\n",
    "max_temps = []\n",
    "wind_speeds = []\n",
    "countries = []\n",
    "\n",
    "# set initial count quantities for organization\n",
    "count_one = 0\n",
    "set_one = 1\n",
    "\n",
    "# loops for creating dataframe columns\n",
    "for city in cities:\n",
    "    try:\n",
    "        response = requests.get(query_url + city.replace(\" \",\"&\")).json()\n",
    "        cloudiness.append(response['clouds']['all'])\n",
    "        countries.append(response['sys']['country'])\n",
    "        dates.append(response['dt'])\n",
    "        humidity.append(response['main']['humidity'])\n",
    "        lats.append(response['coord']['lat'])\n",
    "        lngs.append(response['coord']['lon'])\n",
    "        max_temps.append(response['main']['temp_max'])\n",
    "        wind_speeds.append(response['wind']['speed'])\n",
    "        if count_one > 50:\n",
    "            count_one = 1\n",
    "            set_one += 1\n",
    "            city_full.append(city)\n",
    "        else:\n",
    "            count_one += 1\n",
    "            city_full.append(city)\n",
    "        print(f\"Processing Record {count_one} of Set {set_one} | {city}\")\n",
    "    except Exception:\n",
    "        print(\"City not found. Moving on...\")\n",
    "print(\"------------------------------\\nData has completed\\n------------------------------\")"
   ]
  },
  {
   "cell_type": "code",
   "execution_count": 109,
   "metadata": {},
   "outputs": [],
   "source": [
    "#Build a dictionary and then dataframe\n",
    "weather_dict = {\n",
    "    \"City\": city_full,\n",
    "    \"Cloudiness\": cloudiness,\n",
    "    \"Country\": countries,\n",
    "    \"Date\": dates,\n",
    "    \"Humidity\": humidity,\n",
    "    \"Lat\": lats,\n",
    "    \"Long\": lngs,\n",
    "    \"Max Temp\":max_temps,\n",
    "    \"Wind Speed\": wind_speeds\n",
    "}    "
   ]
  },
  {
   "cell_type": "code",
   "execution_count": 110,
   "metadata": {},
   "outputs": [
    {
     "data": {
      "text/html": [
       "<div>\n",
       "<style scoped>\n",
       "    .dataframe tbody tr th:only-of-type {\n",
       "        vertical-align: middle;\n",
       "    }\n",
       "\n",
       "    .dataframe tbody tr th {\n",
       "        vertical-align: top;\n",
       "    }\n",
       "\n",
       "    .dataframe thead th {\n",
       "        text-align: right;\n",
       "    }\n",
       "</style>\n",
       "<table border=\"1\" class=\"dataframe\">\n",
       "  <thead>\n",
       "    <tr style=\"text-align: right;\">\n",
       "      <th></th>\n",
       "      <th>City</th>\n",
       "      <th>Cloudiness</th>\n",
       "      <th>Country</th>\n",
       "      <th>Date</th>\n",
       "      <th>Humidity</th>\n",
       "      <th>Lat</th>\n",
       "      <th>Long</th>\n",
       "      <th>Max Temp</th>\n",
       "      <th>Wind Speed</th>\n",
       "    </tr>\n",
       "  </thead>\n",
       "  <tbody>\n",
       "    <tr>\n",
       "      <th>0</th>\n",
       "      <td>hay river</td>\n",
       "      <td>95</td>\n",
       "      <td>GB</td>\n",
       "      <td>1599527621</td>\n",
       "      <td>92</td>\n",
       "      <td>52.07</td>\n",
       "      <td>-3.13</td>\n",
       "      <td>61.0</td>\n",
       "      <td>6.02</td>\n",
       "    </tr>\n",
       "    <tr>\n",
       "      <th>1</th>\n",
       "      <td>hilo</td>\n",
       "      <td>1</td>\n",
       "      <td>US</td>\n",
       "      <td>1599527441</td>\n",
       "      <td>58</td>\n",
       "      <td>19.73</td>\n",
       "      <td>-155.09</td>\n",
       "      <td>87.8</td>\n",
       "      <td>10.29</td>\n",
       "    </tr>\n",
       "    <tr>\n",
       "      <th>2</th>\n",
       "      <td>albany</td>\n",
       "      <td>87</td>\n",
       "      <td>US</td>\n",
       "      <td>1599527621</td>\n",
       "      <td>57</td>\n",
       "      <td>42.60</td>\n",
       "      <td>-73.97</td>\n",
       "      <td>73.0</td>\n",
       "      <td>6.64</td>\n",
       "    </tr>\n",
       "    <tr>\n",
       "      <th>3</th>\n",
       "      <td>thompson</td>\n",
       "      <td>75</td>\n",
       "      <td>CA</td>\n",
       "      <td>1599527621</td>\n",
       "      <td>65</td>\n",
       "      <td>55.74</td>\n",
       "      <td>-97.86</td>\n",
       "      <td>44.6</td>\n",
       "      <td>9.17</td>\n",
       "    </tr>\n",
       "    <tr>\n",
       "      <th>4</th>\n",
       "      <td>barrow</td>\n",
       "      <td>90</td>\n",
       "      <td>US</td>\n",
       "      <td>1599527621</td>\n",
       "      <td>86</td>\n",
       "      <td>71.29</td>\n",
       "      <td>-156.79</td>\n",
       "      <td>37.4</td>\n",
       "      <td>14.99</td>\n",
       "    </tr>\n",
       "  </tbody>\n",
       "</table>\n",
       "</div>"
      ],
      "text/plain": [
       "        City  Cloudiness Country        Date  Humidity    Lat    Long  \\\n",
       "0  hay river          95      GB  1599527621        92  52.07   -3.13   \n",
       "1       hilo           1      US  1599527441        58  19.73 -155.09   \n",
       "2     albany          87      US  1599527621        57  42.60  -73.97   \n",
       "3   thompson          75      CA  1599527621        65  55.74  -97.86   \n",
       "4     barrow          90      US  1599527621        86  71.29 -156.79   \n",
       "\n",
       "   Max Temp  Wind Speed  \n",
       "0      61.0        6.02  \n",
       "1      87.8       10.29  \n",
       "2      73.0        6.64  \n",
       "3      44.6        9.17  \n",
       "4      37.4       14.99  "
      ]
     },
     "execution_count": 110,
     "metadata": {},
     "output_type": "execute_result"
    }
   ],
   "source": [
    "weather_df = pd.DataFrame(weather_dict)\n",
    "weather_df.head()"
   ]
  },
  {
   "cell_type": "code",
   "execution_count": 116,
   "metadata": {},
   "outputs": [
    {
     "data": {
      "image/png": "[encoded data removed]",
      "text/plain": [
       "<Figure size 432x288 with 1 Axes>"
      ]
     },
     "metadata": {
      "needs_background": "light"
     },
     "output_type": "display_data"
    }
   ],
   "source": [
    "#Build ScatterPlot 1: Lat vs. Max Speed\n",
    "plt.scatter(weather_df[\"Lat\"], weather_df[\"Max Temp\"], facecolors=\"green\")\n",
    "plt.title(\"Latitude vs. Max Temp\")\n",
    "plt.xlabel(\"Latitude\")\n",
    "plt.ylabel(\"Max Temp (in F)\")\n",
    "plt.grid(b=True,which=\"major\", axis=\"both\", linestyle=\"-\", color=\"navy\")\n",
    "plt.show()"
   ]
  },
  {
   "cell_type": "code",
   "execution_count": 117,
   "metadata": {},
   "outputs": [
    {
     "data": {
      "image/png": "[encoded data removed]",
      "text/plain": [
       "<Figure size 432x288 with 1 Axes>"
      ]
     },
     "metadata": {
      "needs_background": "light"
     },
     "output_type": "display_data"
    }
   ],
   "source": [
    "#Build ScatterPlot 2: Lat vs. Humidity\n",
    "plt.scatter(weather_df[\"Lat\"], weather_df[\"Humidity\"], facecolors=\"orange\")\n",
    "plt.title(\"Latitude vs. Humidity\")\n",
    "plt.xlabel(\"Latitude\")\n",
    "plt.ylabel(\"Humidity\")\n",
    "plt.grid(b=True,which=\"major\", axis=\"both\", linestyle=\"-\", color=\"navy\")\n",
    "plt.show()"
   ]
  },
  {
   "cell_type": "code",
   "execution_count": 119,
   "metadata": {},
   "outputs": [
    {
     "data": {
      "image/png": "[encoded data removed]",
      "text/plain": [
       "<Figure size 432x288 with 1 Axes>"
      ]
     },
     "metadata": {
      "needs_background": "light"
     },
     "output_type": "display_data"
    }
   ],
   "source": [
    "#Build ScatterPlot 3: Lat vs. Cloudiness\n",
    "plt.scatter(weather_df[\"Lat\"], weather_df[\"Cloudiness\"], facecolors=\"red\")\n",
    "plt.title(\"Latitude vs. Cloudiness\")\n",
    "plt.xlabel(\"Latitude\")\n",
    "plt.ylabel(\"Cloudiness\")\n",
    "plt.grid(b=True,which=\"major\", axis=\"both\", linestyle=\"-\", color=\"navy\")\n",
    "plt.show()"
   ]
  },
  {
   "cell_type": "code",
   "execution_count": 121,
   "metadata": {},
   "outputs": [
    {
     "data": {
      "image/png": "[encoded data removed]",
      "text/plain": [
       "<Figure size 432x288 with 1 Axes>"
      ]
     },
     "metadata": {
      "needs_background": "light"
     },
     "output_type": "display_data"
    }
   ],
   "source": [
    "#Build ScatterPlot 4: Lat vs. Wind Speed\n",
    "plt.scatter(weather_df[\"Lat\"], weather_df[\"Wind Speed\"], facecolors=\"black\")\n",
    "plt.title(\"Latitude vs. Wind Speed (mph)\")\n",
    "plt.xlabel(\"Latitude\")\n",
    "plt.ylabel(\"Wind Speed (mph)\")\n",
    "plt.grid(b=True,which=\"major\", axis=\"both\", linestyle=\"-\", color=\"navy\")\n",
    "plt.show()"
   ]
  },
  {
   "cell_type": "code",
   "execution_count": null,
   "metadata": {},
   "outputs": [],
   "source": []
  }
 ],
 "metadata": {
  "kernelspec": {
   "display_name": "Python 3",
   "language": "python",
   "name": "python3"
  },
  "language_info": {
   "codemirror_mode": {
    "name": "ipython",
    "version": 3
   },
   "file_extension": ".py",
   "mimetype": "text/x-python",
   "name": "python",
   "nbconvert_exporter": "python",
   "pygments_lexer": "ipython3",
   "version": "3.6.10"
  }
 },
 "nbformat": 4,
 "nbformat_minor": 2
}
