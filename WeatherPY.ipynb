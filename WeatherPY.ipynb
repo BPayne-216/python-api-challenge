{
 "cells": [
  {
   "cell_type": "markdown",
   "metadata": {},
   "source": [
    "WeatherPy\n",
    "Review the Weather of 500+ cities across the world of varying distance from the equator."
   ]
  },
  {
   "cell_type": "code",
   "execution_count": 1,
   "metadata": {
    "scrolled": false
   },
   "outputs": [],
   "source": [
    "#Dependencies\n",
    "import matplotlib.pyplot as plt\n",
    "import random\n",
    "import requests\n",
    "import pandas as pd\n",
    "import numpy as np\n",
    "import scipy.stats as st\n",
    "from citipy import citipy\n",
    "from config import weather_api_key"
   ]
  },
  {
   "cell_type": "code",
   "execution_count": 2,
   "metadata": {
    "scrolled": true
   },
   "outputs": [],
   "source": [
    "# set up lists to hold random cities\n",
    "latitudes = np.random.uniform(-90, 90, size = 2000)\n",
    "longitudes = np.random.uniform(-180, 180, size = 2000)\n",
    "\n",
    "coordinates = list(zip(latitudes,longitudes))"
   ]
  },
  {
   "cell_type": "code",
   "execution_count": 4,
   "metadata": {},
   "outputs": [],
   "source": [
    "#build out list of cities, using citipy\n",
    "cities = []\n",
    "#Use For loop to go through append list of cities.  Use citipy.\n",
    "for coordinate in coordinates:\n",
    "    lat, lon = coordinate\n",
    "    cities.append(citipy.nearest_city(lat, lon))"
   ]
  },
  {
   "cell_type": "code",
   "execution_count": 7,
   "metadata": {},
   "outputs": [],
   "source": [
    "# Set of nearby cities\n",
    "city_names = []\n",
    "country = []\n",
    "\n",
    "#Use a For loop to retrieve  \n",
    "for city in cities:\n",
    "    city_names.append(city.city_name) \n",
    "    country.append(city.country_code)\n",
    "    \n",
    "city_dict ={\n",
    "    \"Latitude\": latitudes,\n",
    "    \"Longitude\": longitudes,\n",
    "    \"City\": city_names,\n",
    "    \"Country\": country\n",
    "           }    \n",
    "\n",
    "city_df = pd.DataFrame(city_dict)\n",
    "city_df = city_df.drop_duplicates([\"City\",\"Country\"]) # drop city-country duplicates\n",
    "city_df.head()\n",
    "#write out to csv\n",
    "#city_df.to_csv('C:/Users/rjp54/city.csv', sep='\\t', encoding='utf-8')"
   ]
  },
  {
   "cell_type": "code",
   "execution_count": 8,
   "metadata": {},
   "outputs": [
    {
     "data": {
      "text/html": [
       "<div>\n",
       "<style scoped>\n",
       "    .dataframe tbody tr th:only-of-type {\n",
       "        vertical-align: middle;\n",
       "    }\n",
       "\n",
       "    .dataframe tbody tr th {\n",
       "        vertical-align: top;\n",
       "    }\n",
       "\n",
       "    .dataframe thead th {\n",
       "        text-align: right;\n",
       "    }\n",
       "</style>\n",
       "<table border=\"1\" class=\"dataframe\">\n",
       "  <thead>\n",
       "    <tr style=\"text-align: right;\">\n",
       "      <th></th>\n",
       "      <th>Latitude</th>\n",
       "      <th>Longitude</th>\n",
       "      <th>City</th>\n",
       "      <th>Country</th>\n",
       "      <th>Temperature (F)</th>\n",
       "      <th>Humidity (%)</th>\n",
       "      <th>Cloudiness (%)</th>\n",
       "      <th>Wind Speed (mph)</th>\n",
       "    </tr>\n",
       "  </thead>\n",
       "  <tbody>\n",
       "    <tr>\n",
       "      <th>0</th>\n",
       "      <td>67.945007</td>\n",
       "      <td>-16.619895</td>\n",
       "      <td>husavik</td>\n",
       "      <td>is</td>\n",
       "      <td></td>\n",
       "      <td></td>\n",
       "      <td></td>\n",
       "      <td></td>\n",
       "    </tr>\n",
       "    <tr>\n",
       "      <th>1</th>\n",
       "      <td>74.971793</td>\n",
       "      <td>0.800805</td>\n",
       "      <td>roald</td>\n",
       "      <td>no</td>\n",
       "      <td></td>\n",
       "      <td></td>\n",
       "      <td></td>\n",
       "      <td></td>\n",
       "    </tr>\n",
       "    <tr>\n",
       "      <th>2</th>\n",
       "      <td>-88.801791</td>\n",
       "      <td>-124.651617</td>\n",
       "      <td>punta arenas</td>\n",
       "      <td>cl</td>\n",
       "      <td></td>\n",
       "      <td></td>\n",
       "      <td></td>\n",
       "      <td></td>\n",
       "    </tr>\n",
       "    <tr>\n",
       "      <th>3</th>\n",
       "      <td>73.781210</td>\n",
       "      <td>174.393135</td>\n",
       "      <td>komsomolskiy</td>\n",
       "      <td>ru</td>\n",
       "      <td></td>\n",
       "      <td></td>\n",
       "      <td></td>\n",
       "      <td></td>\n",
       "    </tr>\n",
       "    <tr>\n",
       "      <th>4</th>\n",
       "      <td>-69.058971</td>\n",
       "      <td>-170.622475</td>\n",
       "      <td>vaini</td>\n",
       "      <td>to</td>\n",
       "      <td></td>\n",
       "      <td></td>\n",
       "      <td></td>\n",
       "      <td></td>\n",
       "    </tr>\n",
       "  </tbody>\n",
       "</table>\n",
       "</div>"
      ],
      "text/plain": [
       "    Latitude   Longitude          City Country Temperature (F) Humidity (%)  \\\n",
       "0  67.945007  -16.619895       husavik      is                                \n",
       "1  74.971793    0.800805         roald      no                                \n",
       "2 -88.801791 -124.651617  punta arenas      cl                                \n",
       "3  73.781210  174.393135  komsomolskiy      ru                                \n",
       "4 -69.058971 -170.622475         vaini      to                                \n",
       "\n",
       "  Cloudiness (%) Wind Speed (mph)  \n",
       "0                                  \n",
       "1                                  \n",
       "2                                  \n",
       "3                                  \n",
       "4                                  "
      ]
     },
     "execution_count": 8,
     "metadata": {},
     "output_type": "execute_result"
    }
   ],
   "source": [
    "#Add columns to Dataframe to add Temperature, Humidity, Cloudiness, Wind Speed\n",
    "city_df[\"Temperature (F)\"] = \"\"\n",
    "city_df[\"Humidity (%)\"] = \"\"\n",
    "city_df[\"Cloudiness (%)\"] = \"\"\n",
    "city_df[\"Wind Speed (mph)\"] = \"\"\n",
    "city_df.head()"
   ]
  },
  {
   "cell_type": "code",
   "execution_count": null,
   "metadata": {},
   "outputs": [],
   "source": [
    "# Save config information.\n",
    "url = \"http://api.openweathermap.org/data/2.5/weather?\"\n",
    "#units imperial is Fehrenheit\n",
    "units = \"imperial\"\n",
    "\n",
    "# Build partial query URL\n",
    "query_url = f\"{url}appid={weather_api_key}&units={units}&q=\""
   ]
  }
 ],
 "metadata": {
  "kernelspec": {
   "display_name": "Python 3",
   "language": "python",
   "name": "python3"
  },
  "language_info": {
   "codemirror_mode": {
    "name": "ipython",
    "version": 3
   },
   "file_extension": ".py",
   "mimetype": "text/x-python",
   "name": "python",
   "nbconvert_exporter": "python",
   "pygments_lexer": "ipython3",
   "version": "3.6.10"
  }
 },
 "nbformat": 4,
 "nbformat_minor": 2
}
