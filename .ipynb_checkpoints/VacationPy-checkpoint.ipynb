{
 "cells": [
  {
   "cell_type": "code",
   "execution_count": 1,
   "metadata": {},
   "outputs": [],
   "source": [
    "# Dependencies and Setup\n",
    "import matplotlib.pyplot as plt\n",
    "import pandas as pd\n",
    "import numpy as np\n",
    "import requests\n",
    "import gmaps\n",
    "import json\n",
    "import os"
   ]
  },
  {
   "cell_type": "code",
   "execution_count": 2,
   "metadata": {},
   "outputs": [],
   "source": [
    "# Import API key and Configure Maps\n",
    "from config import vacation_api_key\n",
    "\n",
    "gmaps.configure(api_key=vacation_api_key)"
   ]
  },
  {
   "cell_type": "code",
   "execution_count": 3,
   "metadata": {
    "scrolled": true
   },
   "outputs": [
    {
     "data": {
      "text/plain": [
       "Unnamed: 0      int64\n",
       "City           object\n",
       "Cloudiness      int64\n",
       "Country        object\n",
       "Date            int64\n",
       "Humidity        int64\n",
       "Lat           float64\n",
       "Long          float64\n",
       "Max Temp      float64\n",
       "Wind Speed    float64\n",
       "dtype: object"
      ]
     },
     "execution_count": 3,
     "metadata": {},
     "output_type": "execute_result"
    }
   ],
   "source": [
    "#Use Final WeatherPy dataframe as start for Heatmap and Vacation Query\n",
    "vacation_df = pd.read_csv(\"Output/weather_output.csv\")\n",
    "#Check dataframe column types\n",
    "vacation_df.dtypes"
   ]
  },
  {
   "cell_type": "code",
   "execution_count": 4,
   "metadata": {},
   "outputs": [],
   "source": [
    "#begin to create location coordinates and humidity for heatmap\n",
    "locations = vacation_df[[\"Lat\", \"Long\"]]\n",
    "humidity = vacation_df[\"Humidity\"].astype(float)                    "
   ]
  },
  {
   "cell_type": "code",
   "execution_count": 15,
   "metadata": {},
   "outputs": [
    {
     "data": {
      "application/vnd.jupyter.widget-view+json": {
       "model_id": "46469f3d46494ad1a3335ea4dea49d8c",
       "version_major": 2,
       "version_minor": 0
      },
      "text/plain": [
       "Figure(layout=FigureLayout(height='420px'))"
      ]
     },
     "metadata": {},
     "output_type": "display_data"
    }
   ],
   "source": [
    "#Plotting Heatmap\n",
    "fig = gmaps.figure(center=(50.0, -10.0), zoom_level=2)\n",
    "#Creating heat layer\n",
    "heat_layer = gmaps.heatmap_layer(locations, weights = humidity, dissipating=False, max_intensity=np.max(humidity), point_radius=1)\n",
    "#Adding layer\n",
    "fig.add_layer(heat_layer)\n",
    "#Post Heatmap\n",
    "fig\n"
   ]
  },
  {
   "cell_type": "markdown",
   "metadata": {},
   "source": [
    "SCREENSHOT of Heatmap above saved in /OUTPUT"
   ]
  },
  {
   "cell_type": "code",
   "execution_count": 24,
   "metadata": {},
   "outputs": [
    {
     "data": {
      "text/html": [
       "<div>\n",
       "<style scoped>\n",
       "    .dataframe tbody tr th:only-of-type {\n",
       "        vertical-align: middle;\n",
       "    }\n",
       "\n",
       "    .dataframe tbody tr th {\n",
       "        vertical-align: top;\n",
       "    }\n",
       "\n",
       "    .dataframe thead th {\n",
       "        text-align: right;\n",
       "    }\n",
       "</style>\n",
       "<table border=\"1\" class=\"dataframe\">\n",
       "  <thead>\n",
       "    <tr style=\"text-align: right;\">\n",
       "      <th></th>\n",
       "      <th>Unnamed: 0</th>\n",
       "      <th>City</th>\n",
       "      <th>Cloudiness</th>\n",
       "      <th>Country</th>\n",
       "      <th>Date</th>\n",
       "      <th>Humidity</th>\n",
       "      <th>Lat</th>\n",
       "      <th>Long</th>\n",
       "      <th>Max Temp</th>\n",
       "      <th>Wind Speed</th>\n",
       "    </tr>\n",
       "  </thead>\n",
       "  <tbody>\n",
       "    <tr>\n",
       "      <th>20</th>\n",
       "      <td>20</td>\n",
       "      <td>jamestown</td>\n",
       "      <td>1</td>\n",
       "      <td>US</td>\n",
       "      <td>1599530033</td>\n",
       "      <td>93</td>\n",
       "      <td>42.10</td>\n",
       "      <td>-79.24</td>\n",
       "      <td>63.00</td>\n",
       "      <td>4.70</td>\n",
       "    </tr>\n",
       "    <tr>\n",
       "      <th>34</th>\n",
       "      <td>34</td>\n",
       "      <td>bredasdorp</td>\n",
       "      <td>0</td>\n",
       "      <td>ZA</td>\n",
       "      <td>1599530036</td>\n",
       "      <td>93</td>\n",
       "      <td>-34.53</td>\n",
       "      <td>20.04</td>\n",
       "      <td>50.00</td>\n",
       "      <td>2.24</td>\n",
       "    </tr>\n",
       "    <tr>\n",
       "      <th>36</th>\n",
       "      <td>36</td>\n",
       "      <td>mar del plata</td>\n",
       "      <td>0</td>\n",
       "      <td>ES</td>\n",
       "      <td>1599530036</td>\n",
       "      <td>87</td>\n",
       "      <td>43.40</td>\n",
       "      <td>-4.01</td>\n",
       "      <td>60.01</td>\n",
       "      <td>1.12</td>\n",
       "    </tr>\n",
       "    <tr>\n",
       "      <th>38</th>\n",
       "      <td>38</td>\n",
       "      <td>rodionovo-nesvetayskaya</td>\n",
       "      <td>0</td>\n",
       "      <td>RU</td>\n",
       "      <td>1599530037</td>\n",
       "      <td>50</td>\n",
       "      <td>47.61</td>\n",
       "      <td>39.71</td>\n",
       "      <td>55.40</td>\n",
       "      <td>2.24</td>\n",
       "    </tr>\n",
       "    <tr>\n",
       "      <th>40</th>\n",
       "      <td>40</td>\n",
       "      <td>pevek</td>\n",
       "      <td>0</td>\n",
       "      <td>RU</td>\n",
       "      <td>1599530037</td>\n",
       "      <td>78</td>\n",
       "      <td>69.70</td>\n",
       "      <td>170.31</td>\n",
       "      <td>42.06</td>\n",
       "      <td>3.13</td>\n",
       "    </tr>\n",
       "  </tbody>\n",
       "</table>\n",
       "</div>"
      ],
      "text/plain": [
       "    Unnamed: 0                     City  Cloudiness Country        Date  \\\n",
       "20          20                jamestown           1      US  1599530033   \n",
       "34          34               bredasdorp           0      ZA  1599530036   \n",
       "36          36            mar del plata           0      ES  1599530036   \n",
       "38          38  rodionovo-nesvetayskaya           0      RU  1599530037   \n",
       "40          40                    pevek           0      RU  1599530037   \n",
       "\n",
       "    Humidity    Lat    Long  Max Temp  Wind Speed  \n",
       "20        93  42.10  -79.24     63.00        4.70  \n",
       "34        93 -34.53   20.04     50.00        2.24  \n",
       "36        87  43.40   -4.01     60.01        1.12  \n",
       "38        50  47.61   39.71     55.40        2.24  \n",
       "40        78  69.70  170.31     42.06        3.13  "
      ]
     },
     "execution_count": 24,
     "metadata": {},
     "output_type": "execute_result"
    }
   ],
   "source": [
    "#Begin to constrain vacation dataframe based on preferences\n",
    "#I would like to go on a bike riding trip, I do not want it Windy or Hot.  Clouds are fine.\n",
    "ideal_city_df = vacation_df.loc[(vacation_df[\"Wind Speed\"] <= 7) & (vacation_df[\"Cloudiness\"] < 10) & (vacation_df[\"Max Temp\"] <= 75)].dropna()\n",
    "ideal_city_df.head()                                                                                                        "
   ]
  },
  {
   "cell_type": "code",
   "execution_count": 25,
   "metadata": {},
   "outputs": [
    {
     "data": {
      "text/html": [
       "<div>\n",
       "<style scoped>\n",
       "    .dataframe tbody tr th:only-of-type {\n",
       "        vertical-align: middle;\n",
       "    }\n",
       "\n",
       "    .dataframe tbody tr th {\n",
       "        vertical-align: top;\n",
       "    }\n",
       "\n",
       "    .dataframe thead th {\n",
       "        text-align: right;\n",
       "    }\n",
       "</style>\n",
       "<table border=\"1\" class=\"dataframe\">\n",
       "  <thead>\n",
       "    <tr style=\"text-align: right;\">\n",
       "      <th></th>\n",
       "      <th>City</th>\n",
       "      <th>Country</th>\n",
       "      <th>Lat</th>\n",
       "      <th>Long</th>\n",
       "      <th>Hotel Name</th>\n",
       "    </tr>\n",
       "  </thead>\n",
       "  <tbody>\n",
       "    <tr>\n",
       "      <th>20</th>\n",
       "      <td>jamestown</td>\n",
       "      <td>US</td>\n",
       "      <td>42.10</td>\n",
       "      <td>-79.24</td>\n",
       "      <td></td>\n",
       "    </tr>\n",
       "    <tr>\n",
       "      <th>34</th>\n",
       "      <td>bredasdorp</td>\n",
       "      <td>ZA</td>\n",
       "      <td>-34.53</td>\n",
       "      <td>20.04</td>\n",
       "      <td></td>\n",
       "    </tr>\n",
       "    <tr>\n",
       "      <th>36</th>\n",
       "      <td>mar del plata</td>\n",
       "      <td>ES</td>\n",
       "      <td>43.40</td>\n",
       "      <td>-4.01</td>\n",
       "      <td></td>\n",
       "    </tr>\n",
       "    <tr>\n",
       "      <th>38</th>\n",
       "      <td>rodionovo-nesvetayskaya</td>\n",
       "      <td>RU</td>\n",
       "      <td>47.61</td>\n",
       "      <td>39.71</td>\n",
       "      <td></td>\n",
       "    </tr>\n",
       "    <tr>\n",
       "      <th>40</th>\n",
       "      <td>pevek</td>\n",
       "      <td>RU</td>\n",
       "      <td>69.70</td>\n",
       "      <td>170.31</td>\n",
       "      <td></td>\n",
       "    </tr>\n",
       "  </tbody>\n",
       "</table>\n",
       "</div>"
      ],
      "text/plain": [
       "                       City Country    Lat    Long Hotel Name\n",
       "20                jamestown      US  42.10  -79.24           \n",
       "34               bredasdorp      ZA -34.53   20.04           \n",
       "36            mar del plata      ES  43.40   -4.01           \n",
       "38  rodionovo-nesvetayskaya      RU  47.61   39.71           \n",
       "40                    pevek      RU  69.70  170.31           "
      ]
     },
     "execution_count": 25,
     "metadata": {},
     "output_type": "execute_result"
    }
   ],
   "source": [
    "#Narrow down the dataframe to include city, country, and coordinates.  Also adding Column for Hotels.\n",
    "hotels_df = ideal_city_df.loc[:,[\"City\", \"Country\", \"Lat\", \"Long\"]]\n",
    "hotels_df[\"Hotel Name\"] = \"\"\n",
    "hotels_df.head()"
   ]
  },
  {
   "cell_type": "code",
   "execution_count": 26,
   "metadata": {},
   "outputs": [],
   "source": [
    "#Begin to build the parameters for Google Search of Hotels\n",
    "#setting up parameters\n",
    "params = {\n",
    "    \"type\" : \"hotel\",\n",
    "    \"keyword\" : \"hotel\",\n",
    "    \"radius\" : 5000,\n",
    "    \"key\" : vacation_api_key\n",
    "}\n",
    "# base url\n",
    "base_url = \"https://maps.googleapis.com/maps/api/place/nearbysearch/json\""
   ]
  },
  {
   "cell_type": "code",
   "execution_count": null,
   "metadata": {},
   "outputs": [],
   "source": [
    "#Set up For loop to get Hotels that match city and Coordinates\n",
    "for index, row in hotels_df.iterrows():\n",
    "    lat = row[\"Lat\"]\n",
    "    lng = row[\"Long\"]\n",
    "    city_name = row[\"City\"]\n",
    "    \n",
    "    "
   ]
  }
 ],
 "metadata": {
  "kernelspec": {
   "display_name": "Python 3",
   "language": "python",
   "name": "python3"
  },
  "language_info": {
   "codemirror_mode": {
    "name": "ipython",
    "version": 3
   },
   "file_extension": ".py",
   "mimetype": "text/x-python",
   "name": "python",
   "nbconvert_exporter": "python",
   "pygments_lexer": "ipython3",
   "version": "3.6.10"
  }
 },
 "nbformat": 4,
 "nbformat_minor": 2
}
