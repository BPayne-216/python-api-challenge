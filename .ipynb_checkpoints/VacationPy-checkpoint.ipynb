{
 "cells": [
  {
   "cell_type": "code",
   "execution_count": 14,
   "metadata": {},
   "outputs": [],
   "source": [
    "# Dependencies and Setup\n",
    "import matplotlib.pyplot as plt\n",
    "import pandas as pd\n",
    "import numpy as np\n",
    "import requests\n",
    "import gmaps\n",
    "import json\n",
    "import os"
   ]
  },
  {
   "cell_type": "code",
   "execution_count": 15,
   "metadata": {},
   "outputs": [],
   "source": [
    "# Import API key and Configure Maps\n",
    "from config import vacation_api_key\n",
    "\n",
    "gmaps.configure(api_key=vacation_api_key)"
   ]
  },
  {
   "cell_type": "code",
   "execution_count": 18,
   "metadata": {
    "scrolled": true
   },
   "outputs": [
    {
     "data": {
      "text/html": [
       "<div>\n",
       "<style scoped>\n",
       "    .dataframe tbody tr th:only-of-type {\n",
       "        vertical-align: middle;\n",
       "    }\n",
       "\n",
       "    .dataframe tbody tr th {\n",
       "        vertical-align: top;\n",
       "    }\n",
       "\n",
       "    .dataframe thead th {\n",
       "        text-align: right;\n",
       "    }\n",
       "</style>\n",
       "<table border=\"1\" class=\"dataframe\">\n",
       "  <thead>\n",
       "    <tr style=\"text-align: right;\">\n",
       "      <th></th>\n",
       "      <th>Unnamed: 0</th>\n",
       "      <th>City</th>\n",
       "      <th>Cloudiness</th>\n",
       "      <th>Country</th>\n",
       "      <th>Date</th>\n",
       "      <th>Humidity</th>\n",
       "      <th>Lat</th>\n",
       "      <th>Long</th>\n",
       "      <th>Max Temp</th>\n",
       "      <th>Wind Speed</th>\n",
       "    </tr>\n",
       "  </thead>\n",
       "  <tbody>\n",
       "    <tr>\n",
       "      <th>0</th>\n",
       "      <td>0</td>\n",
       "      <td>osijek</td>\n",
       "      <td>46</td>\n",
       "      <td>HR</td>\n",
       "      <td>1599529890</td>\n",
       "      <td>82</td>\n",
       "      <td>45.55</td>\n",
       "      <td>18.69</td>\n",
       "      <td>61.00</td>\n",
       "      <td>6.93</td>\n",
       "    </tr>\n",
       "    <tr>\n",
       "      <th>1</th>\n",
       "      <td>1</td>\n",
       "      <td>barra do garcas</td>\n",
       "      <td>2</td>\n",
       "      <td>BR</td>\n",
       "      <td>1599530028</td>\n",
       "      <td>59</td>\n",
       "      <td>-11.09</td>\n",
       "      <td>-43.14</td>\n",
       "      <td>77.05</td>\n",
       "      <td>14.29</td>\n",
       "    </tr>\n",
       "    <tr>\n",
       "      <th>2</th>\n",
       "      <td>2</td>\n",
       "      <td>rikitea</td>\n",
       "      <td>0</td>\n",
       "      <td>PF</td>\n",
       "      <td>1599530029</td>\n",
       "      <td>83</td>\n",
       "      <td>-23.12</td>\n",
       "      <td>-134.97</td>\n",
       "      <td>73.11</td>\n",
       "      <td>11.86</td>\n",
       "    </tr>\n",
       "    <tr>\n",
       "      <th>3</th>\n",
       "      <td>3</td>\n",
       "      <td>hilo</td>\n",
       "      <td>1</td>\n",
       "      <td>US</td>\n",
       "      <td>1599530029</td>\n",
       "      <td>58</td>\n",
       "      <td>19.73</td>\n",
       "      <td>-155.09</td>\n",
       "      <td>87.80</td>\n",
       "      <td>10.29</td>\n",
       "    </tr>\n",
       "    <tr>\n",
       "      <th>4</th>\n",
       "      <td>4</td>\n",
       "      <td>najran</td>\n",
       "      <td>0</td>\n",
       "      <td>SA</td>\n",
       "      <td>1599530029</td>\n",
       "      <td>38</td>\n",
       "      <td>17.49</td>\n",
       "      <td>44.13</td>\n",
       "      <td>75.20</td>\n",
       "      <td>2.95</td>\n",
       "    </tr>\n",
       "  </tbody>\n",
       "</table>\n",
       "</div>"
      ],
      "text/plain": [
       "   Unnamed: 0             City  Cloudiness Country        Date  Humidity  \\\n",
       "0           0           osijek          46      HR  1599529890        82   \n",
       "1           1  barra do garcas           2      BR  1599530028        59   \n",
       "2           2          rikitea           0      PF  1599530029        83   \n",
       "3           3             hilo           1      US  1599530029        58   \n",
       "4           4           najran           0      SA  1599530029        38   \n",
       "\n",
       "     Lat    Long  Max Temp  Wind Speed  \n",
       "0  45.55   18.69     61.00        6.93  \n",
       "1 -11.09  -43.14     77.05       14.29  \n",
       "2 -23.12 -134.97     73.11       11.86  \n",
       "3  19.73 -155.09     87.80       10.29  \n",
       "4  17.49   44.13     75.20        2.95  "
      ]
     },
     "execution_count": 18,
     "metadata": {},
     "output_type": "execute_result"
    }
   ],
   "source": [
    "#Use Final WeatherPy dataframe as start for Heatmap and Vacation Query\n",
    "vacation_df = pd.read_csv(\"Output/weather_output.csv\")\n",
    "vacation_df.head()"
   ]
  },
  {
   "cell_type": "code",
   "execution_count": null,
   "metadata": {},
   "outputs": [],
   "source": []
  }
 ],
 "metadata": {
  "kernelspec": {
   "display_name": "Python 3",
   "language": "python",
   "name": "python3"
  },
  "language_info": {
   "codemirror_mode": {
    "name": "ipython",
    "version": 3
   },
   "file_extension": ".py",
   "mimetype": "text/x-python",
   "name": "python",
   "nbconvert_exporter": "python",
   "pygments_lexer": "ipython3",
   "version": "3.6.10"
  }
 },
 "nbformat": 4,
 "nbformat_minor": 2
}
